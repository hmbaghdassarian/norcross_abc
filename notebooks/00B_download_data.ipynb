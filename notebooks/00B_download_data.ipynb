{
 "cells": [
  {
   "cell_type": "code",
   "execution_count": 6,
   "metadata": {},
   "outputs": [],
   "source": [
    "library(biomaRt)\n",
    "library(data.table)\n",
    "\n",
    "data_path = '/data2/hratch/FDA_collab/'"
   ]
  },
  {
   "cell_type": "code",
   "execution_count": 12,
   "metadata": {},
   "outputs": [],
   "source": [
    "# get the gene IDs to be mapped\n",
    "cfn<-c('GSM4085510_mouse_spleen_Tbx21CreRFPpos_raw_counts.tsv.gz', \n",
    "      'GSM4085511_mouse_spleen_Tbx21CreRFPneg_raw_counts.tsv.gz')\n",
    "read_df<-function(fn){\n",
    "    df<-fread(paste0(data_path, 'raw/references/', fn))\n",
    "    return(colnames(df)[2:dim(df)[[2]]])}\n",
    "human_gene_ids<- Reduce(intersect, lapply(cfn, function(fn) read_df(fn)))"
   ]
  },
  {
   "cell_type": "code",
   "execution_count": 13,
   "metadata": {},
   "outputs": [],
   "source": [
    "# # map from human to mouse using biomart - run on 06/14/21 (do not rerun, use written file)\n",
    "# org1 = useMart(\"ensembl\", dataset = 'hsapiens_gene_ensembl')\n",
    "# org2 = useMart(\"ensembl\", dataset=\"mmusculus_gene_ensembl\")\n",
    "\n",
    "# ID_org_1<-'external_gene_name'\n",
    "# ID_org_2<-'external_gene_name'\n",
    "# mapper = getLDS(attributes = c(ID_org_1), filters = ID_org_1, values = human_gene_ids, \n",
    "#                 mart = org1, attributesL = c(ID_org_2), martL = org2, uniqueRows=T)\n",
    "# colnames(mapper)<-c('human', 'mouse')\n",
    "# write.csv(mapper, paste0(data_path, 'raw/gene_name_mapper.csv'))"
   ]
  }
 ],
 "metadata": {
  "kernelspec": {
   "display_name": "R [conda env:FDA_collab] *",
   "language": "R",
   "name": "conda-env-FDA_collab-r"
  },
  "language_info": {
   "codemirror_mode": "r",
   "file_extension": ".r",
   "mimetype": "text/x-r-source",
   "name": "R",
   "pygments_lexer": "r",
   "version": "4.0.3"
  }
 },
 "nbformat": 4,
 "nbformat_minor": 2
}
