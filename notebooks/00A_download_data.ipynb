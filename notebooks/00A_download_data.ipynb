{
 "cells": [
  {
   "cell_type": "code",
   "execution_count": 3,
   "metadata": {},
   "outputs": [],
   "source": [
    "import os\n",
    "data_path = '/data2/hratch/FDA_collab/'\n",
    "results_path = '/data2/hratch/FDA_collab/'"
   ]
  },
  {
   "cell_type": "code",
   "execution_count": null,
   "metadata": {},
   "outputs": [],
   "source": [
    "# directories\n",
    "for dir_ in ['raw', 'raw/fda_data', 'raw/references', 'raw/references']:\n",
    "    if not os.path.isdir(data_path + dir_):\n",
    "        os.mkdir(results_path + dir_)\n",
    "    \n",
    "for dir_ in ['processed', 'interim', 'figures']:\n",
    "    if not os.path.isdir(results_path + dir_):\n",
    "        os.mkdir(results_path + dir_)\n",
    "\n"
   ]
  },
  {
   "cell_type": "code",
   "execution_count": null,
   "metadata": {},
   "outputs": [],
   "source": [
    "# lr pairs\n",
    "if not os.path.isdir(data_path + 'raw/Ligand-Receptor-Pairs'):\n",
    "    os.system('git clone https://github.com/LewisLabUCSD/Ligand-Receptor-Pairs.git ' + data_path + 'raw/')"
   ]
  },
  {
   "cell_type": "markdown",
   "metadata": {},
   "source": [
    "### References"
   ]
  },
  {
   "cell_type": "markdown",
   "metadata": {},
   "source": [
    "Tabula Muris:"
   ]
  },
  {
   "cell_type": "code",
   "execution_count": 31,
   "metadata": {},
   "outputs": [
    {
     "data": {
      "text/plain": [
       "0"
      ]
     },
     "execution_count": 31,
     "metadata": {},
     "output_type": "execute_result"
    }
   ],
   "source": [
    "gc1 = 'https://github.com/czbiohub/tabula-muris-vignettes.git'\n",
    "os.system('git clone ' + gc1)\n",
    "\n",
    "gc2 = 'https://github.com/czbiohub/tabula-muris.git'\n",
    "os.system('git clone ' + gc2)\n",
    "\n",
    "os.system('mv tabula-muris tabula-muris-vignettes/')\n",
    "os.system('mv tabula-muris-vignettes ' + data_path + 'raw/references/')\n",
    "\n",
    "hl = 'https://s3.amazonaws.com/czbiohub-tabula-muris/TM_facs_mat.rds'\n",
    "cmd = 'wget -P ' + data_path + 'raw/references/tabula-muris-vignettes/data/ ' + hl\n",
    "os.system(cmd)\n",
    "\n",
    "hl = 'https://s3.amazonaws.com/czbiohub-tabula-muris/TM_droplet_mat.rds'\n",
    "cmd = 'wget -P ' + data_path + 'raw/references/tabula-muris-vignettes/data/ ' + hl\n",
    "os.system(cmd)\n",
    "\n",
    "\n",
    "# fn = 'tabula-muris-vignettes/data/Data_Formatting.Rmd'\n",
    "# cmd = 'Rscript -e \"rmarkdown::render(' + \"'\" + fn + \"'\" + ')\"'\n",
    "# print(cmd)"
   ]
  },
  {
   "cell_type": "markdown",
   "metadata": {},
   "source": [
    "Brown DCs:"
   ]
  },
  {
   "cell_type": "code",
   "execution_count": 5,
   "metadata": {},
   "outputs": [],
   "source": [
    "# raw counts - downloaded directly from GSE137710 and copied into path\n",
    "hls = ['https://ftp.ncbi.nlm.nih.gov/geo/samples/GSM4085nnn/GSM4085510/suppl/GSM4085510%5Fmouse%5Fspleen%5FTbx21CreRFPpos%5Fraw%5Fcounts%2Etsv%2Egz', \n",
    "      'https://ftp.ncbi.nlm.nih.gov/geo/samples/GSM4085nnn/GSM4085511/suppl/GSM4085511%5Fmouse%5Fspleen%5FTbx21CreRFPneg%5Fraw%5Fcounts%2Etsv%2Egz']\n",
    "# filenames: GSM4085510_mouse_spleen_Tbx21CreRFPpos_raw_counts.tsv.gz, GSM4085511_mouse_spleen_Tbx21CreRFPneg_raw_counts.tsv.gz\n",
    "for hl in hls:\n",
    "    cmd = 'wget -P ' + data_path + 'raw/references/ ' + hl\n",
    "    os.system(cmd)\n",
    "# metadata\n",
    "hl = 'https://ftp.ncbi.nlm.nih.gov/geo/series/GSE137nnn/GSE137710/suppl/GSE137710%5Fmouse%5Fspleen%5Fcell%5Fmetadata%5F4464x9%2Etsv%2Egz'\n",
    "cmd = 'wget -P ' + data_path + 'raw/references/ ' + hl\n",
    "os.system(cmd)"
   ]
  },
  {
   "cell_type": "code",
   "execution_count": 1,
   "metadata": {},
   "outputs": [],
   "source": [
    "# raw counts - downloaded directly from GSE137710 and copied into path\n",
    "hls = ['https://ftp.ncbi.nlm.nih.gov/geo/samples/GSM4085nnn/GSM4085510/suppl/GSM4085510%5Fmouse%5Fspleen%5FTbx21CreRFPpos%5Fraw%5Fcounts%2Etsv%2Egz', \n",
    "      'https://ftp.ncbi.nlm.nih.gov/geo/samples/GSM4085nnn/GSM4085511/suppl/GSM4085511%5Fmouse%5Fspleen%5FTbx21CreRFPneg%5Fraw%5Fcounts%2Etsv%2Egz']\n",
    "# filenames: GSM4085510_mouse_spleen_Tbx21CreRFPpos_raw_counts.tsv.gz, GSM4085511_mouse_spleen_Tbx21CreRFPneg_raw_counts.tsv.gz\n",
    "for hl in hls:\n",
    "    cmd = 'wget -P ' + data_path + 'raw/references/ ' + hl\n",
    "    os.system(cmd)"
   ]
  },
  {
   "cell_type": "markdown",
   "metadata": {},
   "source": [
    "MCA:"
   ]
  },
  {
   "cell_type": "code",
   "execution_count": 4,
   "metadata": {},
   "outputs": [
    {
     "name": "stdout",
     "output_type": "stream",
     "text": [
      "unzip /data2/hratch/FDA_collab/raw/MCA.zip -d /data2/hratch/FDA_collab/interim/\n"
     ]
    }
   ],
   "source": [
    "# # download MCA data\n",
    "# hl = 'https://ftp.ncbi.nlm.nih.gov/geo/series/GSE108nnn/GSE108097/suppl/GSE108097%5FMCA%5FFigure2%5FBatchRemoved%5Fdge%2Etxt%2Etar%2Egz'\n",
    "# cmd = 'wget -O ' + data_path + 'raw/references/ ' + hl\n",
    "# os.system(cmd)\n",
    "\n",
    "# # decompress\n",
    "# fn = 'GSE108097_MCA_Figure2_BatchRemoved_dge.txt.tar.gz'\n",
    "# cmd = 'tar xzf ' + data_path + 'raw/references/' + fn + ' -C ' + results_path + 'interim/'\n",
    "# os.system(cmd)\n",
    "\n",
    "# fn = 'MCA.zip'\n",
    "# cmd = 'unzip ' + data_path + 'raw/references/' + fn + ' -d ' + results_path + 'interim/'\n",
    "# os.system(cmd)"
   ]
  },
  {
   "cell_type": "markdown",
   "metadata": {},
   "source": [
    "Andreatta references:\n",
    "\n",
    "https://www.nature.com/articles/s41467-021-23324-4#data-availability"
   ]
  },
  {
   "cell_type": "code",
   "execution_count": 5,
   "metadata": {},
   "outputs": [],
   "source": [
    "hls = ['https://ndownloader.figshare.com/files/23136746', \n",
    "      'https://ndownloader.figshare.com/files/23166794']\n",
    "\n",
    "for hl in hls:\n",
    "    cmd = 'wget -P ' + data_path + 'raw/references/ ' + hl\n",
    "    os.system(cmd)"
   ]
  }
 ],
 "metadata": {
  "kernelspec": {
   "display_name": "Python [conda env:FDA_collab] *",
   "language": "python",
   "name": "conda-env-FDA_collab-py"
  },
  "language_info": {
   "codemirror_mode": {
    "name": "ipython",
    "version": 3
   },
   "file_extension": ".py",
   "mimetype": "text/x-python",
   "name": "python",
   "nbconvert_exporter": "python",
   "pygments_lexer": "ipython3",
   "version": "3.7.3"
  }
 },
 "nbformat": 4,
 "nbformat_minor": 2
}
