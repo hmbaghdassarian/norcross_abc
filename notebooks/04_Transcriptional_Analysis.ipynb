{
 "cells": [
  {
   "cell_type": "code",
   "execution_count": 1,
   "id": "d9334031",
   "metadata": {},
   "outputs": [],
   "source": [
    "suppressPackageStartupMessages({\n",
    "    suppressWarnings({\n",
    "        library(Seurat, quietly = T)\n",
    "        library(openxlsx, quietly = T)\n",
    "        library(ggpubr, quietly = T)\n",
    "        library(plyr, quietly = T)\n",
    "        library(dplyr, quietly = T)\n",
    "\n",
    "    })\n",
    "})"
   ]
  },
  {
   "cell_type": "code",
   "execution_count": 2,
   "id": "90ff4b57",
   "metadata": {},
   "outputs": [],
   "source": [
    "server = 'mando'\n",
    "if (server == 'jabba'){\n",
    "    data_path = '/data3/hratch/norcross_abc/'\n",
    "}else if (server == 'mando'){\n",
    "    data_path = '/data/hratch/norcross_abc/'\n",
    "}"
   ]
  },
  {
   "cell_type": "code",
   "execution_count": 3,
   "id": "134abf29",
   "metadata": {},
   "outputs": [],
   "source": [
    "abc.integrated<-readRDS(paste0(data_path, 'processed/abc_annotated.RDS'))"
   ]
  },
  {
   "cell_type": "markdown",
   "id": "aaf17e2c",
   "metadata": {},
   "source": [
    "Since we are testing differences in the same cell type across contexts, we employ DE tests that can control for technical effects. Latent variables that account for technical effects have been [shown](https://www.biorxiv.org/content/10.1101/2022.03.15.484475v1) to be effective for DE across contexts. We will use MAST and the CDR (cellular detection rate) which has been [shown](https://genomebiology.biomedcentral.com/articles/10.1186/s13059-015-0844-5) to be an effective latent variable for technical effects"
   ]
  },
  {
   "cell_type": "markdown",
   "id": "f3413081",
   "metadata": {},
   "source": [
    "# CDR\n",
    "\n",
    "First, we calculate the CDR from the LogNormalized expression matrix:\n",
    "\n"
   ]
  },
  {
   "cell_type": "code",
   "execution_count": 4,
   "id": "0a56199e",
   "metadata": {},
   "outputs": [],
   "source": [
    "freq<-function(expr){\n",
    "    nonzero.counts<-rowSums(expr !=0 ) # get # of nonzero cells per gene\n",
    "    return(nonzero.counts/dim(expr)[[2]])\n",
    "}\n",
    "\n",
    "expr = abc.integrated@assays$RNA@data # log-normalized matrix\n",
    "expr<-expr[which(freq(expr)>0),] # remove invariant genes"
   ]
  },
  {
   "cell_type": "code",
   "execution_count": 5,
   "id": "1e4ec43b",
   "metadata": {},
   "outputs": [],
   "source": [
    "thresh = 0 # calculate CDR on non-zero frequency (NOTE: code will need to be changed if setting higher thresh)\n",
    "if (thresh == 0){\n",
    "    cdr<-unlist(unname(scale(colSums(expr!=thresh))[, 1])) # calculate CDR as in MAST tutorial (https://www.bioconductor.org/packages/release/bioc/vignettes/MAST/inst/doc/MAITAnalysis.html)\n",
    "    cdr.2<-unlist(unname(colSums(expr > thresh)/dim(expr)[[1]])) # calculate as in MAST manuscript\n",
    "}else{\n",
    "    stop('Need to implement this if using')\n",
    "}"
   ]
  },
  {
   "cell_type": "markdown",
   "id": "0b84eb69",
   "metadata": {},
   "source": [
    "Note, although the two methods to calculate the CDR give different absolute values, they have perfect correlation (we will proceed with the tutorial recommended CDR calculation):"
   ]
  },
  {
   "cell_type": "code",
   "execution_count": 6,
   "id": "a33cb58f",
   "metadata": {},
   "outputs": [
    {
     "data": {
      "text/html": [
       "FALSE"
      ],
      "text/latex": [
       "FALSE"
      ],
      "text/markdown": [
       "FALSE"
      ],
      "text/plain": [
       "[1] FALSE"
      ]
     },
     "metadata": {},
     "output_type": "display_data"
    },
    {
     "data": {
      "text/html": [
       "1"
      ],
      "text/latex": [
       "1"
      ],
      "text/markdown": [
       "1"
      ],
      "text/plain": [
       "[1] 1"
      ]
     },
     "metadata": {},
     "output_type": "display_data"
    }
   ],
   "source": [
    "identical(cdr, cdr.2)\n",
    "cor(cdr, cdr.2,  method = \"spearman\", use = \"complete.obs\")"
   ]
  },
  {
   "cell_type": "code",
   "execution_count": 7,
   "id": "d712c67e",
   "metadata": {},
   "outputs": [],
   "source": [
    "abc.integrated@meta.data[['cellular.detection.rate']]<-cdr # add cdr to object"
   ]
  },
  {
   "cell_type": "markdown",
   "id": "febd8d5f",
   "metadata": {},
   "source": [
    "# RUN MAST DE"
   ]
  },
  {
   "cell_type": "markdown",
   "id": "d6d7973e",
   "metadata": {},
   "source": [
    "## Part 1: Run to compare a single cell type across contexts"
   ]
  },
  {
   "cell_type": "markdown",
   "id": "d1f996c0",
   "metadata": {},
   "source": [
    "Specifiy the cell types and context comparisons to test for:"
   ]
  },
  {
   "cell_type": "code",
   "execution_count": 137,
   "id": "56c58a28",
   "metadata": {},
   "outputs": [],
   "source": [
    "cell.types.l1<-setdiff(levels(abc.integrated$Cell.Type.Level1), 'Unknown')\n",
    "\n",
    "# t cell subsets\n",
    "md<-abc.integrated@meta.data\n",
    "cell.types.l2<-levels(droplevels((md[md$Cell.Type.Level1 == 'T-cells', ][['Cell.Type.Level2']])))\n",
    "\n",
    "comparisons<-list(c('ABC', 'UNTR'),  # second entry is baseline\n",
    "                  c('DT_ABC', 'DT_Veh'), \n",
    "                  c('DT_ABC', 'ABC'))"
   ]
  },
  {
   "cell_type": "code",
   "execution_count": 112,
   "id": "536b7e5e",
   "metadata": {},
   "outputs": [],
   "source": [
    "# compare a cell type between contexts\n",
    "MAST.de.context<-function(cell.type, context.treat, context.base, \n",
    "                          latent.vars, min.pct, lfc.thresh, \n",
    "                          cell.level, # 1 or 2\n",
    "                          so, # seurat object\n",
    "                          n_samples_thresh = 50 # min # of cells in the comparison\n",
    "                         ){\n",
    "#     abc.subset<-subset(x = so, subset = Cell.Type.Level2 == cell.type)\n",
    "    cl <- FetchData(object = so, vars = paste0('Cell.Type.Level', cell.level))\n",
    "    abc.subset = so[, which(x = cl == cell.type)]\n",
    "    \n",
    "    Idents(abc.subset)<-'orig.ident'\n",
    "    \n",
    "#     n_samples<-dim(abc.subset@meta.data[abc.subset@meta.data$orig.ident %in% c(context.treat, context.base),])[[1]]\n",
    "#     if (n_samples<n_samples_thresh){\n",
    "#         return (NULL)\n",
    "    n_samples.treat<-dim(abc.subset@meta.data[abc.subset@meta.data$orig.ident == context.treat,])[[1]]\n",
    "    n_samples.base<-dim(abc.subset@meta.data[abc.subset@meta.data$orig.ident == context.base,])[[1]]\n",
    "    if ((n_samples.treat<n_samples_thresh) | (n_samples.base<n_samples_thresh)){\n",
    "        return (NULL)\n",
    "    }else{\n",
    "        suppressWarnings({\n",
    "            suppressMessages({\n",
    "                de.res<-FindMarkers(object = abc.subset, \n",
    "                                    ident.1 = context.treat, ident.2 = context.base,\n",
    "                                    assay = 'RNA', only.pos = F, \n",
    "                                    slot = 'data', test.use = 'MAST', \n",
    "                                    latent.vars = latent.vars,\n",
    "                                    min.pct = min.pct, \n",
    "                                    logfc.threshold = lfc.thresh \n",
    "                                                  )\n",
    "                })\n",
    "        })\n",
    "\n",
    "        names(de.res)[names(de.res) == 'p_val_adj'] <- 'bonferroni.adjusted' # rename to specify correction type\n",
    "        # get the B-H to be less stringent than the native Seurat Bonferroni\n",
    "        de.res[['BH.adjusted']]<-p.adjust(p = de.res$p_val, method = \"BH\") \n",
    "        de.res[['gene']]<-rownames(de.res)\n",
    "        de.res[['Cell.Type']]<-cell.type\n",
    "        de.res[['Cell.Type.Level']]<-cell.level\n",
    "        de.res[['Comparison']]<-paste0(context.treat, '_vs_', context.base)\n",
    "\n",
    "        return(de.res) \n",
    "    }\n",
    "}"
   ]
  },
  {
   "cell_type": "markdown",
   "id": "f9617b78",
   "metadata": {},
   "source": [
    "Filter for cell types with very few cells:"
   ]
  },
  {
   "cell_type": "code",
   "execution_count": 138,
   "id": "2086b4a4",
   "metadata": {},
   "outputs": [],
   "source": [
    "# total_iters = (length(comparisons)*length(cell.types.l1)) + (length(comparisons)*length(cell.types.l2))\n",
    "# iter<-1\n",
    "# print('begin de')\n",
    "# MAST.de.res<-list()\n",
    "# for (comparison in comparisons){\n",
    "#     context.treat<-comparison[[1]]\n",
    "#     context.base<-comparison[[2]]\n",
    "#     for (ct in cell.types.l1){\n",
    "#         print(paste0(iter, ' of ', total_iters))\n",
    "#         cond.name<-paste0(ct, '_', paste0(comparison, collapse = 'vs'))\n",
    "\n",
    "#         MAST.de.res[[cond.name]]<-MAST.de.context(ct, context.treat, context.base, \n",
    "#                                                   latent.vars = 'cellular.detection.rate', \n",
    "#                                                   min.pct = 0.1, lfc.thresh = 0.5,\n",
    "#                                                   cell.level = '1',\n",
    "#                                                   so = abc.integrated)\n",
    "#         iter<-iter + 1\n",
    "#         }\n",
    "#     for (ct in cell.types.l2){\n",
    "#         print(paste0(iter, ' of ', total_iters))\n",
    "#         cond.name<-paste0(ct, '_', paste0(comparison, collapse = 'vs'))\n",
    "\n",
    "#         MAST.de.res[[cond.name]]<-MAST.de.context(ct, context.treat, context.base, \n",
    "#                                                   latent.vars = 'cellular.detection.rate', \n",
    "#                                                   min.pct = 0.1, lfc.thresh = 0.5,\n",
    "#                                                   cell.level = '2',\n",
    "#                                                   so = abc.integrated)\n",
    "#         iter<-iter + 1\n",
    "#     }\n",
    "# }\n",
    "# saveRDS(MAST.de.res, paste0(data_path, 'processed/MAST_condition-specific_DE.RDS'))\n",
    "# print('complete')\n",
    "MAST.de.res<-readRDS(paste0(data_path, 'processed/MAST_condition-specific_DE.RDS'))"
   ]
  },
  {
   "cell_type": "markdown",
   "id": "92c6e98f",
   "metadata": {},
   "source": [
    "# you are here"
   ]
  },
  {
   "cell_type": "code",
   "execution_count": 139,
   "id": "d5bd9b1d",
   "metadata": {},
   "outputs": [
    {
     "name": "stdout",
     "output_type": "stream",
     "text": [
      "[1] \"# of DE genes after filtering:\"\n"
     ]
    },
    {
     "data": {
      "text/plain": [
       "                \n",
       "                 ABC_vs_UNTR DT_ABC_vs_ABC DT_ABC_vs_DT_Veh\n",
       "  CD4+ TE                  0           399              221\n",
       "  CD4+ Treg              268           309                0\n",
       "  CD4+TN                  87           151               86\n",
       "  CD8+ TE/Ex               0             0              274\n",
       "  CD8+ TEA_1             212           228                0\n",
       "  CD8+ TEA_2             109           410                0\n",
       "  CD8+ TEx prec            0           421              247\n",
       "  CD8+ TN                 89           113               49\n",
       "  CD8+ TN/EA-ISG          37           225                0\n",
       "  cDC_1                    0           236              166\n",
       "  cDC_2                    0           259               63\n",
       "  gd-T                    17           192              286\n",
       "  Mf                       0           598              661\n",
       "  ncMono                   0             0               87\n",
       "  NK  cells                0           276                0\n",
       "  pDC                      0           258              165\n",
       "  Pre-B cells              0             0              273\n",
       "  T-cells                 36           180               63\n",
       "  Xcr1+ DC_1               0             0              656\n",
       "  Xcr1+ DC_2               0           267               91"
      ]
     },
     "metadata": {},
     "output_type": "display_data"
    }
   ],
   "source": [
    "de.res<-do.call(\"rbind\", MAST.de.res)\n",
    "\n",
    "de.res<-de.res[de.res$BH.adjusted <= 0.1,] # filter on BH\n",
    "de.res<-de.res[with(de.res, order(Cell.Type, -abs(avg_log2FC), BH.adjusted)), ]\n",
    "\n",
    "print('# of DE genes after filtering:')\n",
    "table(de.res$Cell.Type, de.res$Comparison)"
   ]
  },
  {
   "cell_type": "code",
   "execution_count": 151,
   "id": "cd791afb",
   "metadata": {},
   "outputs": [],
   "source": [
    "counter<-1\n",
    "context_comparisons_workbook<-createWorkbook()\n",
    "for (comparison in unique(de.res$Comparison)){\n",
    "    for (cell.type in  unique(de.res$Cell.Type)){\n",
    "        de.res.cl<-de.res[(de.res$Comparison == comparison) & (de.res$Cell.Type == cell.type), ]\n",
    "        if (dim(de.res.cl)[[1]] > 0){\n",
    "            rownames(de.res.cl)<-1:dim(de.res.cl)[[1]]\n",
    "        \n",
    "        addWorksheet(context_comparisons_workbook, paste0(counter))\n",
    "        writeData(context_comparisons_workbook, sheet = paste0(counter), x = de.res.cl)\n",
    "        counter<-counter+1\n",
    "    \n",
    "        write.csv(de.res.cl, \n",
    "                  paste0(data_path, 'processed/', gsub('/', '_', cell.type), '_', comparison, 'MAST_IPA_input.csv'))\n",
    "        }\n",
    "    }\n",
    "}\n",
    "saveWorkbook(context_comparisons_workbook, overwrite = T, \n",
    "                 paste0(data_path, 'processed/', 'MAST_condition-specific_DE.xlsx'))"
   ]
  },
  {
   "cell_type": "code",
   "execution_count": 152,
   "id": "5001721c",
   "metadata": {},
   "outputs": [
    {
     "data": {
      "text/html": [
       "'/data/hratch/norcross_abc/processed/MAST_condition-specific_DE.xlsx'"
      ],
      "text/latex": [
       "'/data/hratch/norcross\\_abc/processed/MAST\\_condition-specific\\_DE.xlsx'"
      ],
      "text/markdown": [
       "'/data/hratch/norcross_abc/processed/MAST_condition-specific_DE.xlsx'"
      ],
      "text/plain": [
       "[1] \"/data/hratch/norcross_abc/processed/MAST_condition-specific_DE.xlsx\""
      ]
     },
     "metadata": {},
     "output_type": "display_data"
    }
   ],
   "source": [
    "paste0(data_path, 'processed/', 'MAST_condition-specific_DE.xlsx')"
   ]
  },
  {
   "cell_type": "markdown",
   "id": "b939b1f0",
   "metadata": {},
   "source": [
    "## Part 2: Run to compare different cell types, independent of context\n",
    "\n",
    "Based on trajectory analysis, also compare CD8+ TEA_1 w/ CD8+ TEA_2 in the combined DT_ABC/aCD4_ABC conditions. "
   ]
  },
  {
   "cell_type": "code",
   "execution_count": 38,
   "id": "40e1c8d7",
   "metadata": {},
   "outputs": [],
   "source": [
    "# compare between cell types within a given context(s)\n",
    "MAST.de.celltypes<-function(contexts, cell.type.treat, cell.type.base, latent.vars, min.pct, lfc.thresh, \n",
    "                           so = abc.integrated, cell.level = '2'){\n",
    "    abc.subset<-subset(x = so, subset = orig.ident %in% contexts)\n",
    "    Idents(abc.subset)<-paste0('Cell.Type.Level', cell.level)\n",
    "    \n",
    "    suppressWarnings({\n",
    "        suppressMessages({\n",
    "            de.res<-FindMarkers(object = abc.subset, \n",
    "                                ident.1 = cell.type.treat, ident.2 = cell.type.base,\n",
    "                                assay = 'RNA', only.pos = F, \n",
    "                                slot = 'data', test.use = 'MAST', \n",
    "                                latent.vars = latent.vars,\n",
    "                                min.pct = min.pct, \n",
    "                                logfc.threshold = lfc.thresh \n",
    "                                              )\n",
    "            })\n",
    "    })\n",
    "    \n",
    "    names(de.res)[names(de.res) == 'p_val_adj'] <- 'bonferroni.adjusted' # rename to specify correction type\n",
    "    # get the B-H to be less stringent than the native Seurat Bonferroni\n",
    "    de.res[['BH.adjusted']]<-p.adjust(p = de.res$p_val, method = \"BH\") \n",
    "    de.res[['gene']]<-rownames(de.res)\n",
    "    de.res[['Combined.Contexts']]<-paste0(contexts, collapse=\";\")\n",
    "    de.res[['Comparison']]<-paste0(cell.type.treat, '_vs_', cell.type.base)\n",
    "    \n",
    "    return(de.res)\n",
    "}"
   ]
  },
  {
   "cell_type": "code",
   "execution_count": 46,
   "id": "9c977cd3",
   "metadata": {},
   "outputs": [],
   "source": [
    "contexts<-list(c('DT_ABC', 'aCD4_ABC'))\n",
    "comparisons<-list(c('CD8+ TEA_1', 'CD8+ TEA_2'))"
   ]
  },
  {
   "cell_type": "code",
   "execution_count": 47,
   "id": "0c997b60",
   "metadata": {},
   "outputs": [],
   "source": [
    "MAST.de.res.ct<-list()\n",
    "for (comparison in comparisons){\n",
    "    for (contexts_ in contexts){\n",
    "        ct.treat<-comparison[[1]]\n",
    "        ct.base<-comparison[[2]]\n",
    "        cond.name<-paste0(paste0(contexts, collapse=\";\"), '_', paste0(comparison, collapse = 'vs'))\n",
    "\n",
    "        MAST.de.res.ct[[cond.name]]<-MAST.de.celltypes(contexts_, ct.treat, ct.base, \n",
    "                                      latent.vars = 'cellular.detection.rate', \n",
    "                                         min.pct = 0.1, lfc.thresh = 0.5)\n",
    "    }\n",
    "}\n"
   ]
  },
  {
   "cell_type": "code",
   "execution_count": 48,
   "id": "eee598df",
   "metadata": {},
   "outputs": [
    {
     "name": "stdout",
     "output_type": "stream",
     "text": [
      "[1] \"# of DE genes after filtering:\"\n"
     ]
    },
    {
     "data": {
      "text/plain": [
       "                 \n",
       "                  CD8+ TEA_1_vs_CD8+ TEA_2\n",
       "  DT_ABC;aCD4_ABC                      429"
      ]
     },
     "metadata": {},
     "output_type": "display_data"
    }
   ],
   "source": [
    "de.res.ct<-do.call(\"rbind\", MAST.de.res.ct)\n",
    "de.res.ct<-de.res.ct[de.res.ct$BH.adjusted <= 0.1,]\n",
    "\n",
    "print('# of DE genes after filtering:')\n",
    "table(de.res.ct$Combined.Contexts, de.res.ct$Comparison)"
   ]
  },
  {
   "cell_type": "code",
   "execution_count": 50,
   "id": "7ced59b9",
   "metadata": {},
   "outputs": [],
   "source": [
    "write.csv(de.res.ct, paste0(data_path, 'processed/', 'CD8TEA_de.csv'))"
   ]
  }
 ],
 "metadata": {
  "kernelspec": {
   "display_name": "R [conda env:norcross_abc]",
   "language": "R",
   "name": "conda-env-norcross_abc-r"
  },
  "language_info": {
   "codemirror_mode": "r",
   "file_extension": ".r",
   "mimetype": "text/x-r-source",
   "name": "R",
   "pygments_lexer": "r",
   "version": "4.2.2"
  }
 },
 "nbformat": 4,
 "nbformat_minor": 5
}
