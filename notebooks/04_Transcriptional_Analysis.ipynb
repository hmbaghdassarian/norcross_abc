{
 "cells": [
  {
   "cell_type": "code",
   "execution_count": 1,
   "id": "d9334031",
   "metadata": {},
   "outputs": [],
   "source": [
    "suppressPackageStartupMessages({\n",
    "    suppressWarnings({\n",
    "        library(Seurat, quietly = T)\n",
    "        library(openxlsx, quietly = T)\n",
    "        library(ggpubr, quietly = T)\n",
    "        library(plyr, quietly = T)\n",
    "        library(dplyr, quietly = T)\n",
    "\n",
    "    })\n",
    "})\n",
    "\n",
    "data_path = '/data3/hratch/norcross_abc/'"
   ]
  },
  {
   "cell_type": "code",
   "execution_count": 2,
   "id": "134abf29",
   "metadata": {},
   "outputs": [],
   "source": [
    "abc.integrated<-readRDS(paste0(data_path, 'processed/abc_annotated.RDS'))"
   ]
  },
  {
   "cell_type": "markdown",
   "id": "59292183",
   "metadata": {},
   "source": [
    "Specifiy the cell types and context comparisons to test for:"
   ]
  },
  {
   "cell_type": "code",
   "execution_count": 4,
   "id": "6d4eb3da",
   "metadata": {},
   "outputs": [
    {
     "data": {
      "text/html": [
       "<style>\n",
       ".list-inline {list-style: none; margin:0; padding: 0}\n",
       ".list-inline>li {display: inline-block}\n",
       ".list-inline>li:not(:last-child)::after {content: \"\\00b7\"; padding: 0 .5ex}\n",
       "</style>\n",
       "<ol class=list-inline><li>UNTR</li><li>ABC</li><li>DT_Veh</li><li>DT_ABC</li><li>aCD4_ABC</li></ol>\n",
       "\n",
       "<details>\n",
       "\t<summary style=display:list-item;cursor:pointer>\n",
       "\t\t<strong>Levels</strong>:\n",
       "\t</summary>\n",
       "\t<style>\n",
       "\t.list-inline {list-style: none; margin:0; padding: 0}\n",
       "\t.list-inline>li {display: inline-block}\n",
       "\t.list-inline>li:not(:last-child)::after {content: \"\\00b7\"; padding: 0 .5ex}\n",
       "\t</style>\n",
       "\t<ol class=list-inline><li>'UNTR'</li><li>'ABC'</li><li>'DT_Veh'</li><li>'DT_ABC'</li><li>'aCD4_ABC'</li></ol>\n",
       "</details>"
      ],
      "text/latex": [
       "\\begin{enumerate*}\n",
       "\\item UNTR\n",
       "\\item ABC\n",
       "\\item DT\\_Veh\n",
       "\\item DT\\_ABC\n",
       "\\item aCD4\\_ABC\n",
       "\\end{enumerate*}\n",
       "\n",
       "\\emph{Levels}: \\begin{enumerate*}\n",
       "\\item 'UNTR'\n",
       "\\item 'ABC'\n",
       "\\item 'DT\\_Veh'\n",
       "\\item 'DT\\_ABC'\n",
       "\\item 'aCD4\\_ABC'\n",
       "\\end{enumerate*}\n"
      ],
      "text/markdown": [
       "1. UNTR\n",
       "2. ABC\n",
       "3. DT_Veh\n",
       "4. DT_ABC\n",
       "5. aCD4_ABC\n",
       "\n",
       "\n",
       "\n",
       "**Levels**: 1. 'UNTR'\n",
       "2. 'ABC'\n",
       "3. 'DT_Veh'\n",
       "4. 'DT_ABC'\n",
       "5. 'aCD4_ABC'\n",
       "\n",
       "\n"
      ],
      "text/plain": [
       "[1] UNTR     ABC      DT_Veh   DT_ABC   aCD4_ABC\n",
       "Levels: UNTR ABC DT_Veh DT_ABC aCD4_ABC"
      ]
     },
     "metadata": {},
     "output_type": "display_data"
    }
   ],
   "source": [
    "unique(abc.integrated$orig.ident)"
   ]
  },
  {
   "cell_type": "code",
   "execution_count": 5,
   "id": "6bd7577e",
   "metadata": {},
   "outputs": [],
   "source": [
    "cell.types<-c('CD8+ TN/EA-ISG')\n",
    "comparisons<-list(dt.effect = c('DT_ABC', 'ABC')) # second entry is baseline"
   ]
  },
  {
   "cell_type": "markdown",
   "id": "aaf17e2c",
   "metadata": {},
   "source": [
    "Since we are testing differences in the same cell type across contexts, we employ DE tests that can control for technical effects. Latent variables that account for technical effects have been [shown](https://www.biorxiv.org/content/10.1101/2022.03.15.484475v1) to be effective for DE across contexts. We will use MAST and the CDR (cellular detection rate) which has been [shown](https://genomebiology.biomedcentral.com/articles/10.1186/s13059-015-0844-5) to be an effective latent variable for technical effects"
   ]
  },
  {
   "cell_type": "markdown",
   "id": "f3413081",
   "metadata": {},
   "source": [
    "# CDR\n",
    "\n",
    "First, we calculate the CDR from the LogNormalized expression matrix:\n",
    "\n"
   ]
  },
  {
   "cell_type": "code",
   "execution_count": 10,
   "id": "0a56199e",
   "metadata": {},
   "outputs": [],
   "source": [
    "freq<-function(expr){\n",
    "    nonzero.counts<-rowSums(expr !=0 ) # get # of nonzero cells per gene\n",
    "    return(nonzero.counts/dim(expr)[[2]])\n",
    "}\n",
    "\n",
    "expr = abc.integrated@assays$RNA@data # log-normalized matrix\n",
    "expr<-expr[which(freq(expr)>0),] # remove invariant genes"
   ]
  },
  {
   "cell_type": "code",
   "execution_count": 11,
   "id": "1e4ec43b",
   "metadata": {},
   "outputs": [],
   "source": [
    "thresh = 0 # calculate CDR on non-zero frequency (NOTE: code will need to be changed if setting higher thresh)\n",
    "if (thresh == 0){\n",
    "    cdr<-unlist(unname(scale(colSums(expr!=thresh))[, 1])) # calculate CDR as in MAST tutorial (https://www.bioconductor.org/packages/release/bioc/vignettes/MAST/inst/doc/MAITAnalysis.html)\n",
    "    cdr.2<-unlist(unname(colSums(expr > thresh)/dim(expr)[[1]])) # calculate as in MAST manuscript\n",
    "}else{\n",
    "    stop('Need to implement this if using')\n",
    "}"
   ]
  },
  {
   "cell_type": "markdown",
   "id": "0b84eb69",
   "metadata": {},
   "source": [
    "Note, although the two methods to calculate the CDR give different absolute values, they have perfect correlation (we will proceed with the tutorial recommended CDR calculation):"
   ]
  },
  {
   "cell_type": "code",
   "execution_count": 12,
   "id": "a33cb58f",
   "metadata": {},
   "outputs": [
    {
     "data": {
      "text/html": [
       "FALSE"
      ],
      "text/latex": [
       "FALSE"
      ],
      "text/markdown": [
       "FALSE"
      ],
      "text/plain": [
       "[1] FALSE"
      ]
     },
     "metadata": {},
     "output_type": "display_data"
    },
    {
     "data": {
      "text/html": [
       "1"
      ],
      "text/latex": [
       "1"
      ],
      "text/markdown": [
       "1"
      ],
      "text/plain": [
       "[1] 1"
      ]
     },
     "metadata": {},
     "output_type": "display_data"
    }
   ],
   "source": [
    "identical(cdr, cdr.2)\n",
    "cor(cdr, cdr.2,  method = \"spearman\", use = \"complete.obs\")"
   ]
  },
  {
   "cell_type": "code",
   "execution_count": 13,
   "id": "d712c67e",
   "metadata": {},
   "outputs": [],
   "source": [
    "abc.integrated@meta.data[['cellular.detection.rate']]<-cdr # add cdr to object"
   ]
  },
  {
   "cell_type": "markdown",
   "id": "febd8d5f",
   "metadata": {},
   "source": [
    "# RUN MAST DE"
   ]
  },
  {
   "cell_type": "code",
   "execution_count": 15,
   "id": "536b7e5e",
   "metadata": {},
   "outputs": [],
   "source": [
    "MAST.de<-function(Cell.Type.Level2, context.treat, context.base, latent.vars, min.pct, lfc.thresh){\n",
    "    abc.subset<-subset(x = abc.integrated, subset = Cell.Type.Level2 == ct)\n",
    "    Idents(abc.subset)<-'orig.ident'\n",
    "    \n",
    "    suppressWarnings({\n",
    "        suppressMessages({\n",
    "            de.res<-FindMarkers(object = abc.subset, \n",
    "                                ident.1 = context.treat, ident.2 = context.base,\n",
    "                                assay = 'RNA', only.pos = F, \n",
    "                                slot = 'data', test.use = 'MAST', \n",
    "                                latent.vars = latent.vars,\n",
    "                                min.pct = min.pct, \n",
    "                                logfc.threshold = lfc.thresh \n",
    "                                              )\n",
    "            })\n",
    "    })\n",
    "    \n",
    "    names(de.res)[names(de.res) == 'p_val_adj'] <- 'bonferroni.adjusted' # rename to specify correction type\n",
    "    # get the B-H to be less stringent than the native Seurat Bonferroni\n",
    "    de.res[['BH.adjusted']]<-p.adjust(p = de.res$p_val, method = \"BH\") \n",
    "    de.res[['gene']]<-rownames(de.res)\n",
    "    de.res[['Cell.Type.Level2']]<-ct\n",
    "    de.res[['Comparison']]<-paste0(context.treat, '_vs_', context.base)\n",
    "    \n",
    "    return(de.res)\n",
    "}"
   ]
  },
  {
   "cell_type": "code",
   "execution_count": 18,
   "id": "2086b4a4",
   "metadata": {},
   "outputs": [],
   "source": [
    "MAST.de.res<-list()\n",
    "for (comparison in comparisons){\n",
    "    for (ct in cell.types){\n",
    "        context.treat<-comparison[[1]]\n",
    "        context.base<-comparison[[2]]\n",
    "        cond.name<-paste0(ct, '_', paste0(comparison, collapse = 'vs'))\n",
    "\n",
    "        MAST.de.res[[cond.name]]<-MAST.de(cell.type, context.treat, context.base, \n",
    "                                      latent.vars = 'cellular.detection.rate', \n",
    "                                         min.pct = 0.1, lfc.thresh = 0.5)\n",
    "    }\n",
    "}\n"
   ]
  },
  {
   "cell_type": "code",
   "execution_count": 24,
   "id": "014bf863",
   "metadata": {},
   "outputs": [
    {
     "name": "stdout",
     "output_type": "stream",
     "text": [
      "[1] \"# of DE genes after filtering:\"\n"
     ]
    },
    {
     "data": {
      "text/plain": [
       "                \n",
       "                 DT_ABC_vs_ABC\n",
       "  CD8+ TN/EA-ISG           225"
      ]
     },
     "metadata": {},
     "output_type": "display_data"
    }
   ],
   "source": [
    "de.res<-do.call(\"rbind\", MAST.de.res)\n",
    "de.res<-de.res[de.res$BH.adjusted <= 0.1,]\n",
    "\n",
    "print('# of DE genes after filtering:')\n",
    "table(de.res$Cell.Type, de.res$Comparison)"
   ]
  },
  {
   "cell_type": "code",
   "execution_count": 25,
   "id": "cd791afb",
   "metadata": {},
   "outputs": [],
   "source": [
    "write.csv(de.res, paste0(data_path, 'processed/', 'ISG_de.csv'))"
   ]
  }
 ],
 "metadata": {
  "kernelspec": {
   "display_name": "R [conda env:norcross_abc]",
   "language": "R",
   "name": "conda-env-norcross_abc-r"
  },
  "language_info": {
   "codemirror_mode": "r",
   "file_extension": ".r",
   "mimetype": "text/x-r-source",
   "name": "R",
   "pygments_lexer": "r",
   "version": "4.2.1"
  }
 },
 "nbformat": 4,
 "nbformat_minor": 5
}
